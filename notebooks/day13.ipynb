{
 "cells": [
  {
   "cell_type": "markdown",
   "id": "0920dae7",
   "metadata": {},
   "source": [
    "# Day13  \n",
    "本章以day11中的CNNs为例，测试`tensorboard`监控、`torch.save()`保存、`onnx`导出。"
   ]
  },
  {
   "cell_type": "markdown",
   "id": "2b1d05e1",
   "metadata": {},
   "source": [
    "![tensorboard](../images/tensorboard.png)"
   ]
  },
  {
   "cell_type": "markdown",
   "id": "f8e509dc",
   "metadata": {},
   "source": [
    "代码在day13.py中查看。"
   ]
  },
  {
   "cell_type": "markdown",
   "id": "8feea5d8",
   "metadata": {},
   "source": [
    "先在终端运行：\n",
    "```\n",
    "pip install tensorboard\n",
    "```\n",
    "或者运行下面魔法命令"
   ]
  },
  {
   "cell_type": "code",
   "execution_count": null,
   "id": "f20bedbd",
   "metadata": {},
   "outputs": [
    {
     "name": "stdout",
     "output_type": "stream",
     "text": [
      "Requirement already satisfied: tensorboard in /home/dove/handonML/handonML/lib/python3.12/site-packages (2.19.0)\n",
      "Requirement already satisfied: absl-py>=0.4 in /home/dove/handonML/handonML/lib/python3.12/site-packages (from tensorboard) (2.2.2)\n",
      "Requirement already satisfied: grpcio>=1.48.2 in /home/dove/handonML/handonML/lib/python3.12/site-packages (from tensorboard) (1.71.0)\n",
      "Requirement already satisfied: markdown>=2.6.8 in /home/dove/handonML/handonML/lib/python3.12/site-packages (from tensorboard) (3.8)\n",
      "Requirement already satisfied: numpy>=1.12.0 in /home/dove/handonML/handonML/lib/python3.12/site-packages (from tensorboard) (2.2.4)\n",
      "Requirement already satisfied: packaging in /home/dove/handonML/handonML/lib/python3.12/site-packages (from tensorboard) (25.0)\n",
      "Requirement already satisfied: protobuf!=4.24.0,>=3.19.6 in /home/dove/handonML/handonML/lib/python3.12/site-packages (from tensorboard) (6.30.2)\n",
      "Requirement already satisfied: setuptools>=41.0.0 in /home/dove/handonML/handonML/lib/python3.12/site-packages (from tensorboard) (78.1.0)\n",
      "Requirement already satisfied: six>1.9 in /home/dove/handonML/handonML/lib/python3.12/site-packages (from tensorboard) (1.17.0)\n",
      "Requirement already satisfied: tensorboard-data-server<0.8.0,>=0.7.0 in /home/dove/handonML/handonML/lib/python3.12/site-packages (from tensorboard) (0.7.2)\n",
      "Requirement already satisfied: werkzeug>=1.0.1 in /home/dove/handonML/handonML/lib/python3.12/site-packages (from tensorboard) (3.1.3)\n",
      "Requirement already satisfied: MarkupSafe>=2.1.1 in /home/dove/handonML/handonML/lib/python3.12/site-packages (from werkzeug>=1.0.1->tensorboard) (3.0.2)\n"
     ]
    }
   ],
   "source": [
    "%pip install tensorboard"
   ]
  },
  {
   "cell_type": "markdown",
   "id": "974cbf25",
   "metadata": {},
   "source": [
    "在终端运行：  \n",
    "```\n",
    "cd handonML-\n",
    "tensorboard --logdir=runs\n",
    "```\n",
    "路径是相对于你当前终端所在目录的。如果你在 handonML- 目录下运行，路径就是 runs。   \n",
    "打开弹出的网页（如localhost:6006），这时候里面是空的。   \n",
    "执行训练脚本。\n",
    "```\n",
    "cd scripts/DL\n",
    "python3 day13.py\n",
    "```"
   ]
  },
  {
   "cell_type": "code",
   "execution_count": null,
   "id": "55357069",
   "metadata": {},
   "outputs": [],
   "source": [
    "%%bash\n",
    "cd handonML-\n",
    "tensorbaord --logdir=runs"
   ]
  },
  {
   "cell_type": "code",
   "execution_count": null,
   "id": "d11a4c52",
   "metadata": {},
   "outputs": [],
   "source": [
    "%%bash\n",
    "cd scripts/DL\n",
    "python3 day13.py"
   ]
  },
  {
   "cell_type": "markdown",
   "id": "1b52e4d5",
   "metadata": {},
   "source": [
    "`tensorboard`总结表格：\n",
    "| 功能模块      | 主要作用                                 | 常用 PyTorch API 方法 (SummaryWriter 的方法) | 适用场景/意义                                               |\n",
    "|--------------|------------------------------------------|---------------------------------------------|------------------------------------------------------------|\n",
    "| Scalars      | 监控数值指标随时间变化（曲线图）           | add_scalar()                                | 训练损失、验证损失、准确率、学习率等核心指标监控            |\n",
    "| Graphs       | 可视化模型网络结构和数据流                 | add_graph()                                 | 理解复杂模型结构，Debug 数据流问题                          |\n",
    "| Histograms   | 查看参数和梯度随时间的分布变化             | add_histogram()                             | 诊断梯度问题（消失/爆炸），观察参数学习过程                 |\n",
    "| Images       | 可视化图像数据                             | add_images()                                | 检查数据预处理，查看模型输出图像，可视化中间层特征/权重      |\n",
    "| Text         | 可视化文本数据                             | add_text()                                  | 查看输入/输出文本，注意力权重等字符串信息                   |\n",
    "| Projector    | 可视化高维嵌入向量（降维到 2D/3D）         | add_embedding()                             | 理解嵌入空间的结构，观察相似样本的聚类情况                  |\n",
    "| PR Curves    | 可视化分类模型的 Precision-Recall 曲线      | add_pr_curve()                              | 评估分类模型性能，特别是不平衡数据，关注不同阈值下的权衡     |\n",
    "| (Comparison) | 对比多个实验的指标曲线                     | (通过 logdir 目录结构实现)                   | 选择最佳超参数、模型结构，进行 A/B 测试                     |\n"
   ]
  },
  {
   "cell_type": "markdown",
   "id": "bc02d8b7",
   "metadata": {},
   "source": [
    "`torch.save()`保存模型"
   ]
  },
  {
   "cell_type": "markdown",
   "id": "c5a414a1",
   "metadata": {},
   "source": [
    "保存模型（不推荐）\n"
   ]
  },
  {
   "cell_type": "code",
   "execution_count": null,
   "id": "043f7a69",
   "metadata": {},
   "outputs": [],
   "source": [
    "\"\"\"\n",
    "torch.save(model,pth)\n",
    "...\n",
    "loaded_model = torch.load(pth)\n",
    "\"\"\""
   ]
  },
  {
   "cell_type": "markdown",
   "id": "9159c29b",
   "metadata": {},
   "source": [
    "保存参数（推荐）"
   ]
  },
  {
   "cell_type": "code",
   "execution_count": null,
   "id": "bcab55f9",
   "metadata": {},
   "outputs": [],
   "source": [
    "\"\"\"\n",
    "torch.save(model.state_dict(), pth)\n",
    "loaded_model = MyModel()\n",
    "loaded_model.load_state_dict(torch.load(pth))\n",
    "\"\"\""
   ]
  },
  {
   "cell_type": "markdown",
   "id": "b81ff9bb",
   "metadata": {},
   "source": [
    "保存checkpoint（加载优化器状态继续训练）"
   ]
  },
  {
   "cell_type": "code",
   "execution_count": 1,
   "id": "b8cb72f9",
   "metadata": {},
   "outputs": [
    {
     "data": {
      "text/plain": [
       "\"\\ncheckpoint = {\\n    'epoch': epoch,\\n    'model_state_dict': model.state_dict(),\\n    'optimizer_state_dict': optimizer.state_dict(),\\n    'loss': loss,\\n}\\ntorch.save(checkpoint, pth)\\n...\\ncheckpoint = torch.load(pth)\\nmodel = MyModel()\\nmodel.load_state_dict(checkpoint['model_state_dict'])\\noptimizer = MyOptimizer()\\noptimizer.load_state_dict(checkpoint['optimizer_state_dict'])\\nscheduler = MyScheduler()\\nscheduler.load_state_dict(checkpoint['scheduler_state_dict'])\\nstart_epoch = checkpoint['epoch']\\nloss = checkpoint['loss']\\n\""
      ]
     },
     "execution_count": 1,
     "metadata": {},
     "output_type": "execute_result"
    }
   ],
   "source": [
    "\"\"\"\n",
    "checkpoint = {\n",
    "    'epoch': epoch,\n",
    "    'model_state_dict': model.state_dict(),\n",
    "    'optimizer_state_dict': optimizer.state_dict(),\n",
    "    'loss': loss,\n",
    "}\n",
    "torch.save(checkpoint, pth)\n",
    "\n",
    "...\n",
    "\n",
    "model = MyModel()\n",
    "optimizer = MyOptimizer()\n",
    "scheduler = MyScheduler()\n",
    "\n",
    "checkpoint = torch.load(pth)\n",
    "model.load_state_dict(checkpoint['model_state_dict'])\n",
    "optimizer.load_state_dict(checkpoint['optimizer_state_dict'])\n",
    "scheduler.load_state_dict(checkpoint['scheduler_state_dict'])\n",
    "start_epoch = checkpoint['epoch']\n",
    "loss = checkpoint['loss']\n",
    "\"\"\""
   ]
  },
  {
   "cell_type": "markdown",
   "id": "c09d0ec3",
   "metadata": {},
   "source": [
    "可以选择加载已保存的checkpoint继续训练，见model/SimpleCNN/checkpoint_{epoch}.pth。保存的都是模型训练至当前的最优状态，因此最大的保存epoch数是全局最优状态。为了节省空间，我把全局最优状态保存，其他checkpoint都删除。   \n",
    "\n",
    "终端输入：   \n",
    "`cd handonML-/scripts/DL/`    \n",
    "`python3 day13.py -h` # 查看帮助    \n",
    "`python3 day13.py --checkpoint x` # 输入epoch版本    \n",
    "`python3 day13.py --checkpoint 86 ` #例如：加载并评估第86个epoch的checkpoint（只预测）"
   ]
  },
  {
   "cell_type": "markdown",
   "id": "984421fc",
   "metadata": {},
   "source": [
    "值得注意的是，在我反复训练过程中，发现模型在验证集上的val_loss普遍小于在训练集上的train_loss.这是由于：   \n",
    "\n",
    "- __Dropout:__ 在训练阶段，Dropout 会随机关闭一部分神经元，这增加了训练过程的噪声，使得模型在训练集上的表现（loss）相对较差。但在验证/测试阶段 (`model.eval()`)，Dropout 是关闭的，所有神经元都参与计算，这使得模型能够利用其全部的学习能力，通常会在验证集上获得更好的表现，表现为 loss 较低。\n",
    "\n",
    "- __Batch Normalization:__ Batch Normalization 在训练和验证阶段的行为也不同。训练时，它使用当前 mini-batch 的均值和方差来归一化数据。验证时，它使用在整个训练集上计算得到的（或训练过程中累积的）全局均值和方差。这种差异也会导致训练 loss 和验证 loss 之间的差异。\n",
    "\n",
    "- __数据增强 (Data Augmentation):__ 你使用了 `RandomHorizontalFlip` 和 `RandomCrop` 等数据增强技术。这些技术只在训练阶段应用，增加了训练数据的多样性和难度，从而可能提高训练 loss。在验证阶段，数据增强通常是关闭的，验证集数据是原始的，这使得模型在验证集上更容易获得较低的 loss。\n"
   ]
  },
  {
   "cell_type": "markdown",
   "id": "5b48780a",
   "metadata": {},
   "source": [
    "但是似乎模型在近50个epoch之后就收敛（到局部最优），泛化能力不再增加了。原因可能有：   \n",
    "- 模型本身太简单\n",
    "- 学习率衰减速度过快（StepLR）"
   ]
  },
  {
   "cell_type": "markdown",
   "id": "2db93c97",
   "metadata": {},
   "source": [
    "由于已经达到70%的目标，本阶段不再继续优化。"
   ]
  },
  {
   "cell_type": "markdown",
   "id": "cd626637",
   "metadata": {},
   "source": [
    "`onnx`\n",
    "\n",
    "ONNX 是一个开放的生态系统，旨在让不同的深度学习框架（如 PyTorch, TensorFlow, Keras, MXNet, PaddlePaddle 等）之间能够互相转换模型！"
   ]
  },
  {
   "cell_type": "markdown",
   "id": "1d54eabe",
   "metadata": {},
   "source": [
    "ONNX 的核心概念：  \n",
    "- ONNX Graph (计算图): ONNX 文件内部存储的是模型的计算图，描述了数据流经模型时的各种操作（加法、乘法、卷积、ReLU 等）以及它们之间的连接关系。  \n",
    "- ONNX Operators (算子): ONNX 定义了一套标准的算子库，所有的操作都必须是 ONNX 支持的算子。这是实现跨框架兼容的基础。  \n",
    "- ONNX Protobuf 格式: ONNX 模型使用 Protocol Buffers 格式进行序列化，这是一种高效、语言中立的数据交换格式。"
   ]
  },
  {
   "cell_type": "code",
   "execution_count": null,
   "id": "807124d3",
   "metadata": {},
   "outputs": [
    {
     "name": "stdout",
     "output_type": "stream",
     "text": [
      "Requirement already satisfied: torch in /home/dove/handonML/handonML/lib/python3.12/site-packages (2.3.0+cpu)\n",
      "Collecting onnx\n",
      "  Downloading onnx-1.17.0-cp312-cp312-manylinux_2_17_x86_64.manylinux2014_x86_64.whl.metadata (16 kB)\n",
      "Collecting onnxruntime\n",
      "  Downloading onnxruntime-1.21.1-cp312-cp312-manylinux_2_27_x86_64.manylinux_2_28_x86_64.whl.metadata (4.7 kB)\n",
      "Requirement already satisfied: filelock in /home/dove/handonML/handonML/lib/python3.12/site-packages (from torch) (3.18.0)\n",
      "Requirement already satisfied: typing-extensions>=4.8.0 in /home/dove/handonML/handonML/lib/python3.12/site-packages (from torch) (4.13.2)\n",
      "Requirement already satisfied: sympy in /home/dove/handonML/handonML/lib/python3.12/site-packages (from torch) (1.13.3)\n",
      "Requirement already satisfied: networkx in /home/dove/handonML/handonML/lib/python3.12/site-packages (from torch) (3.4.2)\n",
      "Requirement already satisfied: jinja2 in /home/dove/handonML/handonML/lib/python3.12/site-packages (from torch) (3.1.6)\n",
      "Requirement already satisfied: fsspec in /home/dove/handonML/handonML/lib/python3.12/site-packages (from torch) (2025.3.0)\n",
      "Requirement already satisfied: numpy>=1.20 in /home/dove/handonML/handonML/lib/python3.12/site-packages (from onnx) (2.2.4)\n",
      "Requirement already satisfied: protobuf>=3.20.2 in /home/dove/handonML/handonML/lib/python3.12/site-packages (from onnx) (6.30.2)\n",
      "Collecting coloredlogs (from onnxruntime)\n",
      "  Downloading coloredlogs-15.0.1-py2.py3-none-any.whl.metadata (12 kB)\n",
      "Collecting flatbuffers (from onnxruntime)\n",
      "  Downloading flatbuffers-25.2.10-py2.py3-none-any.whl.metadata (875 bytes)\n",
      "Requirement already satisfied: packaging in /home/dove/handonML/handonML/lib/python3.12/site-packages (from onnxruntime) (25.0)\n",
      "Collecting humanfriendly>=9.1 (from coloredlogs->onnxruntime)\n",
      "  Downloading humanfriendly-10.0-py2.py3-none-any.whl.metadata (9.2 kB)\n",
      "Requirement already satisfied: MarkupSafe>=2.0 in /home/dove/handonML/handonML/lib/python3.12/site-packages (from jinja2->torch) (3.0.2)\n",
      "Requirement already satisfied: mpmath<1.4,>=1.1.0 in /home/dove/handonML/handonML/lib/python3.12/site-packages (from sympy->torch) (1.3.0)\n",
      "Downloading onnx-1.17.0-cp312-cp312-manylinux_2_17_x86_64.manylinux2014_x86_64.whl (16.0 MB)\n",
      "\u001b[2K   \u001b[90m━━━━━━━━━━━━━━━━━━━━━━━━━━━━━━━━━━━━━━━━\u001b[0m \u001b[32m16.0/16.0 MB\u001b[0m \u001b[31m13.2 MB/s\u001b[0m eta \u001b[36m0:00:00\u001b[0m00:01\u001b[0m00:01\u001b[0m\n",
      "\u001b[?25hDownloading onnxruntime-1.21.1-cp312-cp312-manylinux_2_27_x86_64.manylinux_2_28_x86_64.whl (16.0 MB)\n",
      "\u001b[2K   \u001b[90m━━━━━━━━━━━━━━━━━━━━━━━━━━━━━━━━━━━━━━━━\u001b[0m \u001b[32m16.0/16.0 MB\u001b[0m \u001b[31m8.0 MB/s\u001b[0m eta \u001b[36m0:00:00\u001b[0m00:01\u001b[0m00:01\u001b[0mm\n",
      "\u001b[?25hDownloading coloredlogs-15.0.1-py2.py3-none-any.whl (46 kB)\n",
      "\u001b[2K   \u001b[90m━━━━━━━━━━━━━━━━━━━━━━━━━━━━━━━━━━━━━━━━\u001b[0m \u001b[32m46.0/46.0 kB\u001b[0m \u001b[31m6.3 MB/s\u001b[0m eta \u001b[36m0:00:00\u001b[0m\n",
      "\u001b[?25hDownloading flatbuffers-25.2.10-py2.py3-none-any.whl (30 kB)\n",
      "Downloading humanfriendly-10.0-py2.py3-none-any.whl (86 kB)\n",
      "\u001b[2K   \u001b[90m━━━━━━━━━━━━━━━━━━━━━━━━━━━━━━━━━━━━━━━━\u001b[0m \u001b[32m86.8/86.8 kB\u001b[0m \u001b[31m3.9 MB/s\u001b[0m eta \u001b[36m0:00:00\u001b[0m\n",
      "\u001b[?25hInstalling collected packages: flatbuffers, onnx, humanfriendly, coloredlogs, onnxruntime\n",
      "Successfully installed coloredlogs-15.0.1 flatbuffers-25.2.10 humanfriendly-10.0 onnx-1.17.0 onnxruntime-1.21.1\n",
      "Note: you may need to restart the kernel to use updated packages.\n"
     ]
    }
   ],
   "source": [
    "%pip install torch onnx onnxruntime\n",
    "# 如果你想在 GPU 上使用 ONNX Runtime (需要 CUDA 环境)，安装 onnxruntime-gpu\n",
    "# pip install onnxruntime-gpu"
   ]
  }
 ],
 "metadata": {
  "kernelspec": {
   "display_name": "handonML",
   "language": "python",
   "name": "python3"
  },
  "language_info": {
   "codemirror_mode": {
    "name": "ipython",
    "version": 3
   },
   "file_extension": ".py",
   "mimetype": "text/x-python",
   "name": "python",
   "nbconvert_exporter": "python",
   "pygments_lexer": "ipython3",
   "version": "3.12.3"
  }
 },
 "nbformat": 4,
 "nbformat_minor": 5
}
