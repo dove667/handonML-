{
 "cells": [
  {
   "cell_type": "markdown",
   "id": "15baca69",
   "metadata": {},
   "source": [
    "# Day17: BERT在GLUE MRPC任务上的微调\n",
    "本项目演示如何使用`bert-base-uncased`模型在GLUE的MRPC（Microsoft Research Paraphrase Corpus）任务上进行微调。\n",
    "- 任务目标：判断两个句子是否为同义句（paraphrase）。\n",
    "- 评估指标：准确率、F1分数。\n",
    "\n",
    "**流程：**\n",
    "1. 数据加载与探索\n",
    "2. 数据预处理与分词\n",
    "3. DataLoader构建\n",
    "4. 模型定义\n",
    "5. 训练与评估\n"
   ]
  },
  {
   "cell_type": "markdown",
   "id": "3158fdba",
   "metadata": {},
   "source": [
    "见scripts/DL/day17.py"
   ]
  }
 ],
 "metadata": {
  "kernelspec": {
   "display_name": "handonML",
   "language": "python",
   "name": "python3"
  },
  "language_info": {
   "codemirror_mode": {
    "name": "ipython",
    "version": 3
   },
   "file_extension": ".py",
   "mimetype": "text/x-python",
   "name": "python",
   "nbconvert_exporter": "python",
   "pygments_lexer": "ipython3",
   "version": "3.12.3"
  }
 },
 "nbformat": 4,
 "nbformat_minor": 5
}
