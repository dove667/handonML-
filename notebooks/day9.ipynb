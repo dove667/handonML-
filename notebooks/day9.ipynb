{
 "cells": [
  {
   "cell_type": "markdown",
   "metadata": {},
   "source": [
    "# nn.Module 相关常用类   \n",
    "\n",
    "- nn.Module：所有神经网络模块的基类\n",
    "\n",
    "- nn.Linear：全连接层\n",
    "\n",
    "- nn.Conv2d、nn.Conv1d、nn.Conv3d：卷积层\n",
    "\n",
    "- nn.BatchNorm2d、nn.BatchNorm1d：批归一化层\n",
    "\n",
    "- nn.ReLU、nn.Sigmoid、nn.Tanh：激活函数\n",
    "\n",
    "- nn.Dropout、nn.Dropout2d：Dropout层\n",
    "\n",
    "- nn.LSTM、nn.GRU、nn.RNN：循环神经网络层\n",
    "\n",
    "- nn.CrossEntropyLoss、nn.MSELoss 等：损失函数   \n",
    "\n",
    "\n",
    "\n",
    "还有很多其他层和工具类"
   ]
  },
  {
   "cell_type": "markdown",
   "metadata": {},
   "source": [
    "# optim 相关常用类   \n",
    "\n",
    "- optim.SGD：随机梯度下降\n",
    "\n",
    "- optim.Adam：Adam 优化器\n",
    "\n",
    "- optim.AdamW：带权重衰减的 Adam\n",
    "\n",
    "- optim.RMSprop：RMSprop 优化器\n",
    "\n",
    "- optim.Adagrad：Adagrad 优化器\n",
    "\n",
    "- optim.LBFGS：L-BFGS 优化器"
   ]
  },
  {
   "cell_type": "markdown",
   "metadata": {},
   "source": [
    "# nn.functional 相关常用函数\n",
    "\n",
    "- F.relu, F.sigmoid, F.tanh：函数式激活函数\n",
    "- F.max_pool2d, F.avg_pool2d：函数式池化操作\n",
    "- F.conv2d：函数式卷积操作\n",
    "- F.linear：函数式全连接操作\n",
    "- F.dropout：函数式 Dropout\n",
    "- F.cross_entropy, F.mse_loss：函数式损失计算\n",
    "- F.softmax：Softmax 函数\n",
    "- F.interpolate：插值/缩放操作"
   ]
  },
  {
   "cell_type": "markdown",
   "metadata": {},
   "source": [
    "# onnx 相关常用功能\n",
    "\n",
    "- 导出模型：将 PyTorch 模型转换为 ONNX 格式，便于跨平台部署和推理。\n",
    "- onnxruntime：一个跨平台的 ONNX 推理引擎。\n",
    "- onnx-simplifier：用于简化 ONNX 模型的工具。"
   ]
  },
  {
   "cell_type": "markdown",
   "metadata": {},
   "source": [
    "# tensorboard 相关常用功能\n",
    "\n",
    "- SummaryWriter：用于向 TensorBoard 写入事件和摘要的主要类。\n",
    "- add_scalar：记录标量值，如损失、准确率等。\n",
    "- add_image：记录图像数据。\n",
    "- add_histogram：记录张量的直方图。\n",
    "- add_graph：可视化模型结构。\n",
    "- add_embedding：可视化高维嵌入。"
   ]
  }
 ],
 "metadata": {
  "kernelspec": {
   "display_name": "Python 3",
   "language": "python",
   "name": "python3"
  },
  "language_info": {
   "codemirror_mode": {
    "name": "ipython",
    "version": 3
   },
   "file_extension": ".py",
   "mimetype": "text/x-python",
   "name": "python",
   "nbconvert_exporter": "python",
   "pygments_lexer": "ipython3",
   "version": "3.12.3"
  }
 },
 "nbformat": 4,
 "nbformat_minor": 2
}
