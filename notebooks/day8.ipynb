{
 "cells": [
  {
   "cell_type": "markdown",
   "id": "4e678634",
   "metadata": {},
   "source": [
    "# Day8: `Dataset`,`DataLoader`\n",
    "自定义\n"
   ]
  },
  {
   "cell_type": "code",
   "execution_count": 3,
   "id": "1daa4af2",
   "metadata": {},
   "outputs": [],
   "source": [
    "import torch\n",
    "from torch.utils.data import Dataset, DataLoader\n",
    "import pandas as pd"
   ]
  },
  {
   "cell_type": "code",
   "execution_count": 12,
   "id": "da17b8dc",
   "metadata": {},
   "outputs": [],
   "source": [
    "class MyDataset(Dataset):\n",
    "    def __init__(self, transform=None):\n",
    "        self.data = pd.read_csv('../data/Adult/X.csv')\n",
    "        self.transform = transform\n",
    "\n",
    "    def __len__(self):\n",
    "        return len(self.data)\n",
    "\n",
    "    def __getitem__(self, idx):\n",
    "        sample = self.data.iloc[idx]\n",
    "        if self.transform:\n",
    "            sample = self.transform(sample)\n",
    "        return sample"
   ]
  },
  {
   "cell_type": "code",
   "execution_count": 13,
   "id": "30b3db41",
   "metadata": {},
   "outputs": [],
   "source": [
    "class ToTensor:\n",
    "    def __call__(self, sample):\n",
    "        return torch.tensor(sample.values, dtype=torch.float32)"
   ]
  },
  {
   "cell_type": "code",
   "execution_count": null,
   "id": "2e3bdba4",
   "metadata": {},
   "outputs": [],
   "source": [
    "data = MyDataset(ToTensor())\n",
    "dataloader = DataLoader(data, batch_size=32, shuffle=True)"
   ]
  },
  {
   "cell_type": "markdown",
   "id": "000c8846",
   "metadata": {},
   "source": [
    "这个数据集中有缺失值。一般先用pandas和sklearn做数据预处理，然后再转成tensor。"
   ]
  }
 ],
 "metadata": {
  "kernelspec": {
   "display_name": "handonML",
   "language": "python",
   "name": "python3"
  },
  "language_info": {
   "codemirror_mode": {
    "name": "ipython",
    "version": 3
   },
   "file_extension": ".py",
   "mimetype": "text/x-python",
   "name": "python",
   "nbconvert_exporter": "python",
   "pygments_lexer": "ipython3",
   "version": "3.12.3"
  }
 },
 "nbformat": 4,
 "nbformat_minor": 5
}
