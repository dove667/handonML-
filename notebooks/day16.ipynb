{
 "cells": [
  {
   "cell_type": "markdown",
   "id": "d251dee0",
   "metadata": {},
   "source": [
    "# Day16\n",
    "Huggingface Datasets & Trainer API 进阶   \n",
    "`load_dataset`, `DataCollatorWithPadding`, `TrainingArguments`, `Trainer`,`evaluate`,`tqdm`\n",
    "\n",
    "本章涉及微调100M的模型，建议使用GPU。"
   ]
  },
  {
   "cell_type": "code",
   "execution_count": null,
   "id": "f421792b",
   "metadata": {},
   "outputs": [],
   "source": [
    "from datasets import load_dataset\n",
    "from transformers import AutoTokenizer, DataCollatorWithPadding, TrainingArguments,Trainer,AutoModelForSequenceClassification,get_scheduler\n",
    "import numpy as np\n",
    "import evaluate\n",
    "from tqdm.auto import tqdm\n",
    "from torch.utils.data import DataLoader\n",
    "from torch.optim import AdamW\n",
    "import torch"
   ]
  },
  {
   "cell_type": "markdown",
   "id": "bc647a69",
   "metadata": {},
   "source": [
    "## data preprocessing"
   ]
  },
  {
   "cell_type": "markdown",
   "id": "c6ec5ec4",
   "metadata": {},
   "source": [
    "GLUE（General Language Understanding Evaluation）基准测试包含 9 个数据集，每个数据集对应一个特定的自然语言理解任务。这些任务可以分为三类：\n",
    "- 单句任务（Single-Sentence Tasks）：\n",
    "    - CoLA（Corpus of Linguistic Acceptability）：判断句子是否语法正确。\n",
    "    - SST-2（Stanford Sentiment Treebank）：情感分析，判断电影评论的情感是正面还是负面。\n",
    "- 相似性和释义任务（Similarity and Paraphrase Tasks）：\n",
    "    - MRPC（Microsoft Research Paraphrase Corpus）：判断两个句子是否为释义（语义等价）。\n",
    "    - STS-B（Semantic Textual Similarity Benchmark）：评估两个句子的语义相似度（打分任务）。\n",
    "    - QQP（Quora Question Pairs）：判断 Quora 上的两个问题是否语义等价。\n",
    "- 自然语言推理任务（Natural Language Inference Tasks）：\n",
    "    - MNLI（Multi-Genre Natural Language Inference）：判断一个假设是否可以从前提中推断出来（包含匹配和不匹配两个测试集）。\n",
    "    - QNLI（Question-answering Natural Language Inference）：从 SQuAD 数据集改编，判断一个句子是否包含问题的答案。\n",
    "    - RTE（Recognizing Textual Entailment）：判断一个句子是否可以从另一个句子中推断出来。\n",
    "    - WNLI（Winograd Natural Language Inference）：从 Winograd Schema Challenge 改编，解决代词指代问题。"
   ]
  },
  {
   "cell_type": "code",
   "execution_count": null,
   "id": "c29ec33a",
   "metadata": {},
   "outputs": [
    {
     "data": {
      "application/vnd.jupyter.widget-view+json": {
       "model_id": "56cd590435874c069fc775f60b901675",
       "version_major": 2,
       "version_minor": 0
      },
      "text/plain": [
       "README.md:   0%|          | 0.00/35.3k [00:00<?, ?B/s]"
      ]
     },
     "metadata": {},
     "output_type": "display_data"
    },
    {
     "data": {
      "application/vnd.jupyter.widget-view+json": {
       "model_id": "e4fe116d25ea4a4585ec191012207232",
       "version_major": 2,
       "version_minor": 0
      },
      "text/plain": [
       "train-00000-of-00001.parquet:   0%|          | 0.00/649k [00:00<?, ?B/s]"
      ]
     },
     "metadata": {},
     "output_type": "display_data"
    },
    {
     "data": {
      "application/vnd.jupyter.widget-view+json": {
       "model_id": "462c4c8e31ec45cd94c191026280a916",
       "version_major": 2,
       "version_minor": 0
      },
      "text/plain": [
       "validation-00000-of-00001.parquet:   0%|          | 0.00/75.7k [00:00<?, ?B/s]"
      ]
     },
     "metadata": {},
     "output_type": "display_data"
    },
    {
     "data": {
      "application/vnd.jupyter.widget-view+json": {
       "model_id": "00b8ed38fcdc42ee8a559eef36ed590a",
       "version_major": 2,
       "version_minor": 0
      },
      "text/plain": [
       "test-00000-of-00001.parquet:   0%|          | 0.00/308k [00:00<?, ?B/s]"
      ]
     },
     "metadata": {},
     "output_type": "display_data"
    },
    {
     "data": {
      "application/vnd.jupyter.widget-view+json": {
       "model_id": "6abd7bcfb27345f28acc14acbb09dcbb",
       "version_major": 2,
       "version_minor": 0
      },
      "text/plain": [
       "Generating train split:   0%|          | 0/3668 [00:00<?, ? examples/s]"
      ]
     },
     "metadata": {},
     "output_type": "display_data"
    },
    {
     "data": {
      "application/vnd.jupyter.widget-view+json": {
       "model_id": "a69ecbf048454be2b1669abe027f79a0",
       "version_major": 2,
       "version_minor": 0
      },
      "text/plain": [
       "Generating validation split:   0%|          | 0/408 [00:00<?, ? examples/s]"
      ]
     },
     "metadata": {},
     "output_type": "display_data"
    },
    {
     "data": {
      "application/vnd.jupyter.widget-view+json": {
       "model_id": "8f186039f67749a5923da7ea39bca78b",
       "version_major": 2,
       "version_minor": 0
      },
      "text/plain": [
       "Generating test split:   0%|          | 0/1725 [00:00<?, ? examples/s]"
      ]
     },
     "metadata": {},
     "output_type": "display_data"
    },
    {
     "data": {
      "text/plain": [
       "DatasetDict({\n",
       "    train: Dataset({\n",
       "        features: ['sentence1', 'sentence2', 'label', 'idx'],\n",
       "        num_rows: 3668\n",
       "    })\n",
       "    validation: Dataset({\n",
       "        features: ['sentence1', 'sentence2', 'label', 'idx'],\n",
       "        num_rows: 408\n",
       "    })\n",
       "    test: Dataset({\n",
       "        features: ['sentence1', 'sentence2', 'label', 'idx'],\n",
       "        num_rows: 1725\n",
       "    })\n",
       "})"
      ]
     },
     "execution_count": 1,
     "metadata": {},
     "output_type": "execute_result"
    }
   ],
   "source": [
    "raw_datasets = load_dataset(\"glue\", \"mrpc\")\n",
    "raw_datasets"
   ]
  },
  {
   "cell_type": "markdown",
   "id": "2fd4e732",
   "metadata": {},
   "source": [
    "**load_dataset()**\n",
    "\n",
    "1. **加载数据集**：\n",
    "    - 使用 load_dataset() 从 Hub 或本地路径加载数据集。\n",
    "    - 数据集通常分为 train、validation 和 test 三个拆分（split）。\n",
    "2. **访问数据**：\n",
    "    - 数据以类似字典的形式存储，支持切片、迭代和列访问。\n",
    "    - 每个样本是一个字典，键对应特征（如 text、label）。\n",
    "3. **处理数据**：\n",
    "    - 支持映射（map）、过滤（filter）、分片（shard）等操作。\n",
    "    - 可以无缝与 transformers 的 tokenizer 结合。\n",
    "4. **输出**：\n",
    "    - 数据可以直接访问，或转换为 PyTorch/TensorFlow 张量。\n",
    "\n",
    "代码示例"
   ]
  },
  {
   "cell_type": "code",
   "execution_count": null,
   "id": "250b84b8",
   "metadata": {},
   "outputs": [
    {
     "data": {
      "application/vnd.jupyter.widget-view+json": {
       "model_id": "dca4d577380346cb8f91a12caa2355eb",
       "version_major": 2,
       "version_minor": 0
      },
      "text/plain": [
       "README.md:   0%|          | 0.00/9.05k [00:00<?, ?B/s]"
      ]
     },
     "metadata": {},
     "output_type": "display_data"
    },
    {
     "data": {
      "application/vnd.jupyter.widget-view+json": {
       "model_id": "1d602591576e4cde8f0affdb8e2c679f",
       "version_major": 2,
       "version_minor": 0
      },
      "text/plain": [
       "train-00000-of-00001.parquet:   0%|          | 0.00/1.03M [00:00<?, ?B/s]"
      ]
     },
     "metadata": {},
     "output_type": "display_data"
    },
    {
     "data": {
      "application/vnd.jupyter.widget-view+json": {
       "model_id": "ac76a1667f65448bbe7cdafc6c40c335",
       "version_major": 2,
       "version_minor": 0
      },
      "text/plain": [
       "validation-00000-of-00001.parquet:   0%|          | 0.00/127k [00:00<?, ?B/s]"
      ]
     },
     "metadata": {},
     "output_type": "display_data"
    },
    {
     "data": {
      "application/vnd.jupyter.widget-view+json": {
       "model_id": "24837d1186f44b51bd6164c43f14573b",
       "version_major": 2,
       "version_minor": 0
      },
      "text/plain": [
       "test-00000-of-00001.parquet:   0%|          | 0.00/129k [00:00<?, ?B/s]"
      ]
     },
     "metadata": {},
     "output_type": "display_data"
    },
    {
     "data": {
      "application/vnd.jupyter.widget-view+json": {
       "model_id": "43e335f3e555432bbb95d34e442e4989",
       "version_major": 2,
       "version_minor": 0
      },
      "text/plain": [
       "Generating train split:   0%|          | 0/16000 [00:00<?, ? examples/s]"
      ]
     },
     "metadata": {},
     "output_type": "display_data"
    },
    {
     "data": {
      "application/vnd.jupyter.widget-view+json": {
       "model_id": "39499e36173f440caa78cab2e13bedaf",
       "version_major": 2,
       "version_minor": 0
      },
      "text/plain": [
       "Generating validation split:   0%|          | 0/2000 [00:00<?, ? examples/s]"
      ]
     },
     "metadata": {},
     "output_type": "display_data"
    },
    {
     "data": {
      "application/vnd.jupyter.widget-view+json": {
       "model_id": "b8877f379d3c4f3288a850d7933c7f7f",
       "version_major": 2,
       "version_minor": 0
      },
      "text/plain": [
       "Generating test split:   0%|          | 0/2000 [00:00<?, ? examples/s]"
      ]
     },
     "metadata": {},
     "output_type": "display_data"
    },
    {
     "name": "stdout",
     "output_type": "stream",
     "text": [
      "数据集信息: Dataset({\n",
      "    features: ['text', 'label'],\n",
      "    num_rows: 16000\n",
      "})\n",
      "特征: {'text': Value(dtype='string', id=None), 'label': ClassLabel(names=['sadness', 'joy', 'love', 'anger', 'fear', 'surprise'], id=None)}\n",
      "样本数量: 16000\n",
      "第一个样本: {'text': 'i didnt feel humiliated', 'label': 0}\n",
      "\n",
      "前 3 个样本文本: ['i didnt feel humiliated', 'i can go from feeling so hopeless to so damned hopeful just from being around someone who cares and is awake', 'im grabbing a minute to post i feel greedy wrong']\n",
      "前 3 个样本标签: [0, 0, 3]\n"
     ]
    },
    {
     "data": {
      "application/vnd.jupyter.widget-view+json": {
       "model_id": "c010ffaada04447da42bd9a9cec5f272",
       "version_major": 2,
       "version_minor": 0
      },
      "text/plain": [
       "Tokenizing dataset:   0%|          | 0/16000 [00:00<?, ? examples/s]"
      ]
     },
     "metadata": {},
     "output_type": "display_data"
    },
    {
     "name": "stdout",
     "output_type": "stream",
     "text": [
      "\n",
      "预处理后的第一个样本: {'label': 0, 'input_ids': [101, 1045, 2134, 2102, 2514, 26608, 102, 0, 0, 0, 0, 0, 0, 0, 0, 0, 0, 0, 0, 0, 0, 0, 0, 0, 0, 0, 0, 0, 0, 0, 0, 0, 0, 0, 0, 0, 0, 0, 0, 0, 0, 0, 0, 0, 0, 0, 0, 0, 0, 0, 0, 0, 0, 0, 0, 0, 0, 0, 0, 0, 0, 0, 0, 0, 0, 0, 0, 0, 0, 0, 0, 0, 0, 0, 0, 0, 0, 0, 0, 0, 0, 0, 0, 0, 0, 0, 0, 0, 0, 0, 0, 0, 0, 0, 0, 0, 0, 0, 0, 0, 0, 0, 0, 0, 0, 0, 0, 0, 0, 0, 0, 0, 0, 0, 0, 0, 0, 0, 0, 0, 0, 0, 0, 0, 0, 0, 0, 0, 0, 0, 0, 0, 0, 0, 0, 0, 0, 0, 0, 0, 0, 0, 0, 0, 0, 0, 0, 0, 0, 0, 0, 0, 0, 0, 0, 0, 0, 0, 0, 0, 0, 0, 0, 0, 0, 0, 0, 0, 0, 0, 0, 0, 0, 0, 0, 0, 0, 0, 0, 0, 0, 0, 0, 0, 0, 0, 0, 0, 0, 0, 0, 0, 0, 0, 0, 0, 0, 0, 0, 0, 0, 0, 0, 0, 0, 0, 0, 0, 0, 0, 0, 0, 0, 0, 0, 0, 0, 0, 0, 0, 0, 0, 0, 0, 0, 0, 0, 0, 0, 0, 0, 0, 0, 0, 0, 0, 0, 0, 0, 0, 0, 0, 0, 0, 0, 0, 0, 0, 0, 0, 0, 0, 0, 0, 0, 0, 0, 0, 0, 0, 0, 0, 0, 0, 0, 0, 0, 0, 0, 0, 0, 0, 0, 0, 0, 0, 0, 0, 0, 0, 0, 0, 0, 0, 0, 0, 0, 0, 0, 0, 0, 0, 0, 0, 0, 0, 0, 0, 0, 0, 0, 0, 0, 0, 0, 0, 0, 0, 0, 0, 0, 0, 0, 0, 0, 0, 0, 0, 0, 0, 0, 0, 0, 0, 0, 0, 0, 0, 0, 0, 0, 0, 0, 0, 0, 0, 0, 0, 0, 0, 0, 0, 0, 0, 0, 0, 0, 0, 0, 0, 0, 0, 0, 0, 0, 0, 0, 0, 0, 0, 0, 0, 0, 0, 0, 0, 0, 0, 0, 0, 0, 0, 0, 0, 0, 0, 0, 0, 0, 0, 0, 0, 0, 0, 0, 0, 0, 0, 0, 0, 0, 0, 0, 0, 0, 0, 0, 0, 0, 0, 0, 0, 0, 0, 0, 0, 0, 0, 0, 0, 0, 0, 0, 0, 0, 0, 0, 0, 0, 0, 0, 0, 0, 0, 0, 0, 0, 0, 0, 0, 0, 0, 0, 0, 0, 0, 0, 0, 0, 0, 0, 0, 0, 0, 0, 0, 0, 0, 0, 0, 0, 0, 0, 0, 0, 0, 0, 0, 0, 0, 0, 0, 0, 0, 0, 0, 0, 0, 0, 0, 0, 0, 0, 0, 0, 0, 0, 0, 0, 0, 0, 0, 0, 0, 0, 0, 0, 0, 0, 0, 0, 0, 0, 0, 0, 0, 0, 0, 0, 0, 0, 0, 0, 0, 0, 0, 0, 0, 0, 0, 0, 0], 'token_type_ids': [0, 0, 0, 0, 0, 0, 0, 0, 0, 0, 0, 0, 0, 0, 0, 0, 0, 0, 0, 0, 0, 0, 0, 0, 0, 0, 0, 0, 0, 0, 0, 0, 0, 0, 0, 0, 0, 0, 0, 0, 0, 0, 0, 0, 0, 0, 0, 0, 0, 0, 0, 0, 0, 0, 0, 0, 0, 0, 0, 0, 0, 0, 0, 0, 0, 0, 0, 0, 0, 0, 0, 0, 0, 0, 0, 0, 0, 0, 0, 0, 0, 0, 0, 0, 0, 0, 0, 0, 0, 0, 0, 0, 0, 0, 0, 0, 0, 0, 0, 0, 0, 0, 0, 0, 0, 0, 0, 0, 0, 0, 0, 0, 0, 0, 0, 0, 0, 0, 0, 0, 0, 0, 0, 0, 0, 0, 0, 0, 0, 0, 0, 0, 0, 0, 0, 0, 0, 0, 0, 0, 0, 0, 0, 0, 0, 0, 0, 0, 0, 0, 0, 0, 0, 0, 0, 0, 0, 0, 0, 0, 0, 0, 0, 0, 0, 0, 0, 0, 0, 0, 0, 0, 0, 0, 0, 0, 0, 0, 0, 0, 0, 0, 0, 0, 0, 0, 0, 0, 0, 0, 0, 0, 0, 0, 0, 0, 0, 0, 0, 0, 0, 0, 0, 0, 0, 0, 0, 0, 0, 0, 0, 0, 0, 0, 0, 0, 0, 0, 0, 0, 0, 0, 0, 0, 0, 0, 0, 0, 0, 0, 0, 0, 0, 0, 0, 0, 0, 0, 0, 0, 0, 0, 0, 0, 0, 0, 0, 0, 0, 0, 0, 0, 0, 0, 0, 0, 0, 0, 0, 0, 0, 0, 0, 0, 0, 0, 0, 0, 0, 0, 0, 0, 0, 0, 0, 0, 0, 0, 0, 0, 0, 0, 0, 0, 0, 0, 0, 0, 0, 0, 0, 0, 0, 0, 0, 0, 0, 0, 0, 0, 0, 0, 0, 0, 0, 0, 0, 0, 0, 0, 0, 0, 0, 0, 0, 0, 0, 0, 0, 0, 0, 0, 0, 0, 0, 0, 0, 0, 0, 0, 0, 0, 0, 0, 0, 0, 0, 0, 0, 0, 0, 0, 0, 0, 0, 0, 0, 0, 0, 0, 0, 0, 0, 0, 0, 0, 0, 0, 0, 0, 0, 0, 0, 0, 0, 0, 0, 0, 0, 0, 0, 0, 0, 0, 0, 0, 0, 0, 0, 0, 0, 0, 0, 0, 0, 0, 0, 0, 0, 0, 0, 0, 0, 0, 0, 0, 0, 0, 0, 0, 0, 0, 0, 0, 0, 0, 0, 0, 0, 0, 0, 0, 0, 0, 0, 0, 0, 0, 0, 0, 0, 0, 0, 0, 0, 0, 0, 0, 0, 0, 0, 0, 0, 0, 0, 0, 0, 0, 0, 0, 0, 0, 0, 0, 0, 0, 0, 0, 0, 0, 0, 0, 0, 0, 0, 0, 0, 0, 0, 0, 0, 0, 0, 0, 0, 0, 0, 0, 0, 0, 0, 0, 0, 0, 0, 0, 0, 0, 0, 0, 0, 0, 0, 0, 0, 0, 0, 0, 0, 0, 0, 0, 0, 0, 0, 0, 0, 0, 0, 0, 0, 0, 0, 0, 0, 0, 0, 0, 0, 0, 0, 0], 'attention_mask': [1, 1, 1, 1, 1, 1, 1, 0, 0, 0, 0, 0, 0, 0, 0, 0, 0, 0, 0, 0, 0, 0, 0, 0, 0, 0, 0, 0, 0, 0, 0, 0, 0, 0, 0, 0, 0, 0, 0, 0, 0, 0, 0, 0, 0, 0, 0, 0, 0, 0, 0, 0, 0, 0, 0, 0, 0, 0, 0, 0, 0, 0, 0, 0, 0, 0, 0, 0, 0, 0, 0, 0, 0, 0, 0, 0, 0, 0, 0, 0, 0, 0, 0, 0, 0, 0, 0, 0, 0, 0, 0, 0, 0, 0, 0, 0, 0, 0, 0, 0, 0, 0, 0, 0, 0, 0, 0, 0, 0, 0, 0, 0, 0, 0, 0, 0, 0, 0, 0, 0, 0, 0, 0, 0, 0, 0, 0, 0, 0, 0, 0, 0, 0, 0, 0, 0, 0, 0, 0, 0, 0, 0, 0, 0, 0, 0, 0, 0, 0, 0, 0, 0, 0, 0, 0, 0, 0, 0, 0, 0, 0, 0, 0, 0, 0, 0, 0, 0, 0, 0, 0, 0, 0, 0, 0, 0, 0, 0, 0, 0, 0, 0, 0, 0, 0, 0, 0, 0, 0, 0, 0, 0, 0, 0, 0, 0, 0, 0, 0, 0, 0, 0, 0, 0, 0, 0, 0, 0, 0, 0, 0, 0, 0, 0, 0, 0, 0, 0, 0, 0, 0, 0, 0, 0, 0, 0, 0, 0, 0, 0, 0, 0, 0, 0, 0, 0, 0, 0, 0, 0, 0, 0, 0, 0, 0, 0, 0, 0, 0, 0, 0, 0, 0, 0, 0, 0, 0, 0, 0, 0, 0, 0, 0, 0, 0, 0, 0, 0, 0, 0, 0, 0, 0, 0, 0, 0, 0, 0, 0, 0, 0, 0, 0, 0, 0, 0, 0, 0, 0, 0, 0, 0, 0, 0, 0, 0, 0, 0, 0, 0, 0, 0, 0, 0, 0, 0, 0, 0, 0, 0, 0, 0, 0, 0, 0, 0, 0, 0, 0, 0, 0, 0, 0, 0, 0, 0, 0, 0, 0, 0, 0, 0, 0, 0, 0, 0, 0, 0, 0, 0, 0, 0, 0, 0, 0, 0, 0, 0, 0, 0, 0, 0, 0, 0, 0, 0, 0, 0, 0, 0, 0, 0, 0, 0, 0, 0, 0, 0, 0, 0, 0, 0, 0, 0, 0, 0, 0, 0, 0, 0, 0, 0, 0, 0, 0, 0, 0, 0, 0, 0, 0, 0, 0, 0, 0, 0, 0, 0, 0, 0, 0, 0, 0, 0, 0, 0, 0, 0, 0, 0, 0, 0, 0, 0, 0, 0, 0, 0, 0, 0, 0, 0, 0, 0, 0, 0, 0, 0, 0, 0, 0, 0, 0, 0, 0, 0, 0, 0, 0, 0, 0, 0, 0, 0, 0, 0, 0, 0, 0, 0, 0, 0, 0, 0, 0, 0, 0, 0, 0, 0, 0, 0, 0, 0, 0, 0, 0, 0, 0, 0, 0, 0, 0, 0, 0, 0, 0, 0, 0, 0, 0, 0, 0, 0, 0, 0, 0, 0, 0, 0, 0, 0, 0, 0, 0, 0, 0, 0, 0, 0, 0, 0, 0, 0, 0, 0, 0, 0, 0, 0, 0, 0]}\n"
     ]
    },
    {
     "data": {
      "application/vnd.jupyter.widget-view+json": {
       "model_id": "dad26c277cea4253aa39c6d833cc2836",
       "version_major": 2,
       "version_minor": 0
      },
      "text/plain": [
       "Filtering for label 0:   0%|          | 0/16000 [00:00<?, ? examples/s]"
      ]
     },
     "metadata": {},
     "output_type": "display_data"
    },
    {
     "name": "stdout",
     "output_type": "stream",
     "text": [
      "\n",
      "过滤后样本数量: 4666\n",
      "过滤后第一个样本: {'text': 'i didnt feel humiliated', 'label': 0}\n",
      "\n",
      "转换为 PyTorch 后的第一个样本: {'label': tensor(0), 'input_ids': tensor([  101,  1045,  2134,  2102,  2514, 26608,   102,     0,     0,     0,\n",
      "            0,     0,     0,     0,     0,     0,     0,     0,     0,     0,\n",
      "            0,     0,     0,     0,     0,     0,     0,     0,     0,     0,\n",
      "            0,     0,     0,     0,     0,     0,     0,     0,     0,     0,\n",
      "            0,     0,     0,     0,     0,     0,     0,     0,     0,     0,\n",
      "            0,     0,     0,     0,     0,     0,     0,     0,     0,     0,\n",
      "            0,     0,     0,     0,     0,     0,     0,     0,     0,     0,\n",
      "            0,     0,     0,     0,     0,     0,     0,     0,     0,     0,\n",
      "            0,     0,     0,     0,     0,     0,     0,     0,     0,     0,\n",
      "            0,     0,     0,     0,     0,     0,     0,     0,     0,     0,\n",
      "            0,     0,     0,     0,     0,     0,     0,     0,     0,     0,\n",
      "            0,     0,     0,     0,     0,     0,     0,     0,     0,     0,\n",
      "            0,     0,     0,     0,     0,     0,     0,     0,     0,     0,\n",
      "            0,     0,     0,     0,     0,     0,     0,     0,     0,     0,\n",
      "            0,     0,     0,     0,     0,     0,     0,     0,     0,     0,\n",
      "            0,     0,     0,     0,     0,     0,     0,     0,     0,     0,\n",
      "            0,     0,     0,     0,     0,     0,     0,     0,     0,     0,\n",
      "            0,     0,     0,     0,     0,     0,     0,     0,     0,     0,\n",
      "            0,     0,     0,     0,     0,     0,     0,     0,     0,     0,\n",
      "            0,     0,     0,     0,     0,     0,     0,     0,     0,     0,\n",
      "            0,     0,     0,     0,     0,     0,     0,     0,     0,     0,\n",
      "            0,     0,     0,     0,     0,     0,     0,     0,     0,     0,\n",
      "            0,     0,     0,     0,     0,     0,     0,     0,     0,     0,\n",
      "            0,     0,     0,     0,     0,     0,     0,     0,     0,     0,\n",
      "            0,     0,     0,     0,     0,     0,     0,     0,     0,     0,\n",
      "            0,     0,     0,     0,     0,     0,     0,     0,     0,     0,\n",
      "            0,     0,     0,     0,     0,     0,     0,     0,     0,     0,\n",
      "            0,     0,     0,     0,     0,     0,     0,     0,     0,     0,\n",
      "            0,     0,     0,     0,     0,     0,     0,     0,     0,     0,\n",
      "            0,     0,     0,     0,     0,     0,     0,     0,     0,     0,\n",
      "            0,     0,     0,     0,     0,     0,     0,     0,     0,     0,\n",
      "            0,     0,     0,     0,     0,     0,     0,     0,     0,     0,\n",
      "            0,     0,     0,     0,     0,     0,     0,     0,     0,     0,\n",
      "            0,     0,     0,     0,     0,     0,     0,     0,     0,     0,\n",
      "            0,     0,     0,     0,     0,     0,     0,     0,     0,     0,\n",
      "            0,     0,     0,     0,     0,     0,     0,     0,     0,     0,\n",
      "            0,     0,     0,     0,     0,     0,     0,     0,     0,     0,\n",
      "            0,     0,     0,     0,     0,     0,     0,     0,     0,     0,\n",
      "            0,     0,     0,     0,     0,     0,     0,     0,     0,     0,\n",
      "            0,     0,     0,     0,     0,     0,     0,     0,     0,     0,\n",
      "            0,     0,     0,     0,     0,     0,     0,     0,     0,     0,\n",
      "            0,     0,     0,     0,     0,     0,     0,     0,     0,     0,\n",
      "            0,     0,     0,     0,     0,     0,     0,     0,     0,     0,\n",
      "            0,     0,     0,     0,     0,     0,     0,     0,     0,     0,\n",
      "            0,     0,     0,     0,     0,     0,     0,     0,     0,     0,\n",
      "            0,     0,     0,     0,     0,     0,     0,     0,     0,     0,\n",
      "            0,     0,     0,     0,     0,     0,     0,     0,     0,     0,\n",
      "            0,     0,     0,     0,     0,     0,     0,     0,     0,     0,\n",
      "            0,     0,     0,     0,     0,     0,     0,     0,     0,     0,\n",
      "            0,     0,     0,     0,     0,     0,     0,     0,     0,     0,\n",
      "            0,     0,     0,     0,     0,     0,     0,     0,     0,     0,\n",
      "            0,     0]), 'attention_mask': tensor([1, 1, 1, 1, 1, 1, 1, 0, 0, 0, 0, 0, 0, 0, 0, 0, 0, 0, 0, 0, 0, 0, 0, 0,\n",
      "        0, 0, 0, 0, 0, 0, 0, 0, 0, 0, 0, 0, 0, 0, 0, 0, 0, 0, 0, 0, 0, 0, 0, 0,\n",
      "        0, 0, 0, 0, 0, 0, 0, 0, 0, 0, 0, 0, 0, 0, 0, 0, 0, 0, 0, 0, 0, 0, 0, 0,\n",
      "        0, 0, 0, 0, 0, 0, 0, 0, 0, 0, 0, 0, 0, 0, 0, 0, 0, 0, 0, 0, 0, 0, 0, 0,\n",
      "        0, 0, 0, 0, 0, 0, 0, 0, 0, 0, 0, 0, 0, 0, 0, 0, 0, 0, 0, 0, 0, 0, 0, 0,\n",
      "        0, 0, 0, 0, 0, 0, 0, 0, 0, 0, 0, 0, 0, 0, 0, 0, 0, 0, 0, 0, 0, 0, 0, 0,\n",
      "        0, 0, 0, 0, 0, 0, 0, 0, 0, 0, 0, 0, 0, 0, 0, 0, 0, 0, 0, 0, 0, 0, 0, 0,\n",
      "        0, 0, 0, 0, 0, 0, 0, 0, 0, 0, 0, 0, 0, 0, 0, 0, 0, 0, 0, 0, 0, 0, 0, 0,\n",
      "        0, 0, 0, 0, 0, 0, 0, 0, 0, 0, 0, 0, 0, 0, 0, 0, 0, 0, 0, 0, 0, 0, 0, 0,\n",
      "        0, 0, 0, 0, 0, 0, 0, 0, 0, 0, 0, 0, 0, 0, 0, 0, 0, 0, 0, 0, 0, 0, 0, 0,\n",
      "        0, 0, 0, 0, 0, 0, 0, 0, 0, 0, 0, 0, 0, 0, 0, 0, 0, 0, 0, 0, 0, 0, 0, 0,\n",
      "        0, 0, 0, 0, 0, 0, 0, 0, 0, 0, 0, 0, 0, 0, 0, 0, 0, 0, 0, 0, 0, 0, 0, 0,\n",
      "        0, 0, 0, 0, 0, 0, 0, 0, 0, 0, 0, 0, 0, 0, 0, 0, 0, 0, 0, 0, 0, 0, 0, 0,\n",
      "        0, 0, 0, 0, 0, 0, 0, 0, 0, 0, 0, 0, 0, 0, 0, 0, 0, 0, 0, 0, 0, 0, 0, 0,\n",
      "        0, 0, 0, 0, 0, 0, 0, 0, 0, 0, 0, 0, 0, 0, 0, 0, 0, 0, 0, 0, 0, 0, 0, 0,\n",
      "        0, 0, 0, 0, 0, 0, 0, 0, 0, 0, 0, 0, 0, 0, 0, 0, 0, 0, 0, 0, 0, 0, 0, 0,\n",
      "        0, 0, 0, 0, 0, 0, 0, 0, 0, 0, 0, 0, 0, 0, 0, 0, 0, 0, 0, 0, 0, 0, 0, 0,\n",
      "        0, 0, 0, 0, 0, 0, 0, 0, 0, 0, 0, 0, 0, 0, 0, 0, 0, 0, 0, 0, 0, 0, 0, 0,\n",
      "        0, 0, 0, 0, 0, 0, 0, 0, 0, 0, 0, 0, 0, 0, 0, 0, 0, 0, 0, 0, 0, 0, 0, 0,\n",
      "        0, 0, 0, 0, 0, 0, 0, 0, 0, 0, 0, 0, 0, 0, 0, 0, 0, 0, 0, 0, 0, 0, 0, 0,\n",
      "        0, 0, 0, 0, 0, 0, 0, 0, 0, 0, 0, 0, 0, 0, 0, 0, 0, 0, 0, 0, 0, 0, 0, 0,\n",
      "        0, 0, 0, 0, 0, 0, 0, 0])}\n",
      "\n",
      "批量数据 (input_ids): torch.Size([2, 512])\n",
      "批量数据 (labels): tensor([0, 0])\n"
     ]
    }
   ],
   "source": [
    "# 1. 加载数据集\n",
    "dataset = load_dataset(\n",
    "    \"emotion\",                  # 数据集名称\n",
    "    split=\"train\",              # 指定拆分（可选：train/validation/test）\n",
    "    download_mode=\"reuse_dataset_if_exists\",  # 复用已下载的数据\n",
    ")\n",
    "\n",
    "# 2. 查看数据集基本信息\n",
    "print(\"数据集信息:\", dataset)\n",
    "print(\"特征:\", dataset.features)\n",
    "print(\"样本数量:\", len(dataset))\n",
    "print(\"第一个样本:\", dataset[0])\n",
    "\n",
    "# 3. 访问和切片数据\n",
    "sample_text = dataset[\"text\"][:3]  # 前 3 个样本的文本\n",
    "sample_labels = dataset[\"label\"][:3]  # 前 3 个样本的标签\n",
    "print(\"\\n前 3 个样本文本:\", sample_text)\n",
    "print(\"前 3 个样本标签:\", sample_labels)\n",
    "\n",
    "# 4. 结合 tokenizer 预处理\n",
    "# 该函数接收一个字典（与 dataset 的项类似）并返回一个包含 id(input_ids) ，(attention_mask) 和 token_type_ids 键的新字典\n",
    "tokenizer = AutoTokenizer.from_pretrained(\"bert-base-uncased\")\n",
    "def tokenize_function(examples):\n",
    "    return tokenizer(\n",
    "        examples[\"text\"],\n",
    "        padding=\"max_length\",\n",
    "        truncation=True,\n",
    "        return_tensors=\"pt\"\n",
    "    )\n",
    "\n",
    "# 应用映射函数\n",
    "# Datasets 库中的数据集是以 Apache Arrow 格式存储在磁盘上的，因此你只需将接下来要用的数据加载在内存中，而不是加载整个数据集\n",
    "tokenized_dataset = dataset.map(\n",
    "    tokenize_function,\n",
    "    batched=True,              # 批量处理\n",
    "    remove_columns=[\"text\"],   # 删除原始文本列\n",
    "    desc=\"Tokenizing dataset\"  # 进度条描述\n",
    ")\n",
    "print(\"\\n预处理后的第一个样本:\", tokenized_dataset[0])\n",
    "\n",
    "# 5. 过滤数据（示例：只保留标签为 0 的样本）\n",
    "filtered_dataset = dataset.filter(\n",
    "    lambda example: example[\"label\"] == 0,\n",
    "    desc=\"Filtering for label 0\"\n",
    ")\n",
    "print(\"\\n过滤后样本数量:\", len(filtered_dataset))\n",
    "print(\"过滤后第一个样本:\", filtered_dataset[0])\n",
    "\n",
    "# 6. 转换为 PyTorch 格式\n",
    "tokenized_dataset.set_format(\n",
    "    type=\"torch\",              # 转换为 PyTorch 张量\n",
    "    columns=[\"input_ids\", \"attention_mask\", \"label\"]\n",
    ")\n",
    "print(\"\\n转换为 PyTorch 后的第一个样本:\", tokenized_dataset[0])\n",
    "\n",
    "# 7. 批量访问（示例：取前 2 个样本）\n",
    "batch = tokenized_dataset[:2]\n",
    "print(\"\\n批量数据 (input_ids):\", batch[\"input_ids\"].shape)\n",
    "print(\"批量数据 (labels):\", batch[\"label\"])"
   ]
  },
  {
   "cell_type": "markdown",
   "id": "46ff0ce8",
   "metadata": {},
   "source": [
    "**输入参数**\n",
    "\n",
    "1. **load_dataset() 参数**：\n",
    "    - \"emotion\": 数据集名称。\n",
    "    - split: 指定加载的拆分（可选，默认加载所有拆分）。\n",
    "    - cache_dir: 自定义缓存路径,默认路径~/.cache/huggingface/datasets。\n",
    "    - download_mode: 控制下载行为（\"reuse_dataset_if_exists\" 复用已下载数据）。\n",
    "2. **map() 参数**：\n",
    "    - function: 自定义处理函数（如分词）。\n",
    "    - batched=True: 批量处理，提高效率。\n",
    "    - remove_columns: 删除不需要的列（如原始 text）。\n",
    "3. **filter() 参数**：\n",
    "    - function: 过滤条件（返回布尔值）。\n",
    "    - desc: 进度条描述。\n",
    "4. **set_format() 参数**：\n",
    "    - type: 输出格式（\"torch\", \"tensorflow\", \"numpy\", 或 None）。\n",
    "    - columns: 指定转换的列。\n",
    "\n",
    "**输出内容**\n",
    "\n",
    "1. **原始数据集**：\n",
    "    - 一个 Dataset 对象，包含特征和样本。\n",
    "    - 访问方式类似字典或列表。\n",
    "2. **预处理后数据集**：\n",
    "    - 包含 tokenizer 输出（如 input_ids, attention_mask）。\n",
    "    - 移除原始列后更适合模型输入。\n",
    "3. **过滤后数据集**：\n",
    "    - 仅保留满足条件的样本。\n",
    "4. **PyTorch 格式**：\n",
    "    - 数据转换为张量，直接可用于训练。\n",
    "\n",
    "**批量访问**\n",
    "\n",
    "- 切片（如 [:2]）返回一个字典，键对应列名，值是张量。\n",
    "- 形状反映批量大小（batch_size）和序列长度。\n",
    "\n",
    "**保存数据集**：python\n",
    "\n",
    "```python\n",
    "tokenized_dataset.save_to_disk(\"./my_dataset\")\n",
    "```\n",
    "\n",
    "**动态填充**\n",
    "\n",
    "将所有示例填充到该 batch 中最长元素的长度\n",
    "\n",
    "```python\n",
    "from transformers import DataCollatorWithPadding\n",
    "\n",
    "data_collator = DataCollatorWithPadding(tokenizer=tokenizer)\n",
    "\n",
    "batch = data_collator(samples)\n",
    "```"
   ]
  },
  {
   "cell_type": "markdown",
   "id": "808878d6",
   "metadata": {},
   "source": [
    "## Trainer API"
   ]
  },
  {
   "cell_type": "markdown",
   "id": "cc5ee173",
   "metadata": {},
   "source": [
    "准备数据示例"
   ]
  },
  {
   "cell_type": "markdown",
   "id": "dd4bd149",
   "metadata": {},
   "source": [
    "`DataCollatorWithPadding` 是 Hugging Face Transformers 中的数据整理器（Data Collator）类，用于将不同长度的输入样本自动填充（padding）到同一批次（batch）中最长样本的长度，方便批量送入模型。它通常与 `Trainer` 或自定义 DataLoader 一起使用，自动处理动态填充，无需手动指定最大长度。\n",
    "\n",
    "**常用参数说明**\n",
    "\n",
    "| 参数 | 默认值 | 可选值/说明 |\n",
    "| --- | --- | --- |\n",
    "| `tokenizer` | 必填 | 分词器实例（如 `AutoTokenizer.from_pretrained(...)`） |\n",
    "| `padding` | `True` | `True`（填充到 batch 内最长），`\"longest\"`（等同于 True），`\"max_length\"`（填充到最大长度），`False`（不填充） |\n",
    "| `max_length` | `None` | 指定填充到的最大长度（int），若为 None 则不限制 |\n",
    "| `pad_to_multiple_of` | `None` | 若指定，则填充长度为该数的倍数（如 8、16，适用于加速） |\n",
    "| `return_tensors` | `\"pt\"` | 返回张量类型：`\"pt\"`（PyTorch）、`\"tf\"`（TensorFlow）、`\"np\"`（NumPy） |"
   ]
  },
  {
   "cell_type": "code",
   "execution_count": 2,
   "id": "303a2a25",
   "metadata": {},
   "outputs": [
    {
     "data": {
      "application/vnd.jupyter.widget-view+json": {
       "model_id": "c48ba1abbb134e2095eb151ebad09dbb",
       "version_major": 2,
       "version_minor": 0
      },
      "text/plain": [
       "Map:   0%|          | 0/408 [00:00<?, ? examples/s]"
      ]
     },
     "metadata": {},
     "output_type": "display_data"
    }
   ],
   "source": [
    "raw_datasets = load_dataset(\"glue\", \"mrpc\")\n",
    "checkpoint = \"bert-base-uncased\"\n",
    "tokenizer = AutoTokenizer.from_pretrained(checkpoint)\n",
    "\n",
    "def tokenize_function(example):\n",
    "    return tokenizer(example[\"sentence1\"], example[\"sentence2\"], truncation=True)\n",
    "\n",
    "tokenized_datasets = raw_datasets.map(tokenize_function, batched=True)\n",
    "data_collator = DataCollatorWithPadding(tokenizer=tokenizer)"
   ]
  },
  {
   "cell_type": "markdown",
   "id": "27ed0a51",
   "metadata": {},
   "source": [
    "定义`TrainingArguments` 类    \n",
    "\n",
    "`TrainingArguments` 是一个数据类（dataclass），用于存储和组织训练相关的配置参数。它被传递给 Trainer 类，用于控制模型的训练流程高级功能。\n",
    "\n"
   ]
  },
  {
   "cell_type": "markdown",
   "id": "914b4864-460a-45fe-99df-c153ae6c44d6",
   "metadata": {},
   "source": [
    "**常用参数**\n",
    "\n",
    "- `output_dir`：模型和检查点保存目录。**默认**：`\"./results\"`  \n",
    "- `overwrite_output_dir`：是否覆盖输出目录内容。**默认**：`False`  \n",
    "- `num_train_epochs`：训练轮数（epoch）。**默认**：`3.0`  \n",
    "- `per_device_train_batch_size`：每个设备的训练 batch 大小。**默认**：`8`  \n",
    "- `per_device_eval_batch_size`：每个设备的评估 batch 大小。**默认**：`8`  \n",
    "- `learning_rate`：初始学习率。**默认**：`5e-5`  \n",
    "- `weight_decay`：权重衰减（L2 正则）。**默认**：`0.0`  \n",
    "- `logging_dir`：日志保存目录。**默认**：`\"runs/**CURRENT_DATETIME_HOSTNAME**\"`  \n",
    "- `logging_steps`：日志记录步数间隔。**默认**：`500`  \n",
    "- `evaluation_strategy`：评估策略。**可选值**：`\"no\"`、`\"steps\"`、`\"epoch\"`，**默认**：`\"no\"`  \n",
    "- `save_strategy`：模型保存策略。**可选值**：`\"no\"`、`\"steps\"`、`\"epoch\"`，**默认**：`\"steps\"`  \n",
    "- `save_steps`：保存模型的步数间隔。**默认**：`500`  \n",
    "- `seed`：随机种子，保证实验可复现。**默认**：`42`  \n",
    "- `fp16`：是否使用半精度训练（需 GPU 支持）。**默认**：`False`  \n",
    "- `load_best_model_at_end`：训练结束时加载最佳模型。**默认**：`False`  \n",
    "- `metric_for_best_model`：用于选择最佳模型的评估指标。**默认**：`None`（需指定评估指标名称，如 `\"accuracy\"`）"
   ]
  },
  {
   "cell_type": "code",
   "execution_count": null,
   "id": "4c830cd5",
   "metadata": {},
   "outputs": [
    {
     "name": "stderr",
     "output_type": "stream",
     "text": [
      "Some weights of BertForSequenceClassification were not initialized from the model checkpoint at bert-base-uncased and are newly initialized: ['classifier.bias', 'classifier.weight']\n",
      "You should probably TRAIN this model on a down-stream task to be able to use it for predictions and inference.\n"
     ]
    }
   ],
   "source": [
    "training_args = TrainingArguments(\n",
    "    num_train_epochs=10,\n",
    "    output_dir=None,\n",
    ") \n",
    "#用于保存训练后的模型以及训练过程中的 checkpoint 的目录。\n",
    "#对于其余的参数你可以保留默认值，这对于简单的微调应该效果就很好了。\n",
    "# Bert没有在句子分类的数据集上训练过，会报错，意思是已有的输出头没有使用，新的输出头是随机初始化的\n",
    "model = AutoModelForSequenceClassification.from_pretrained(checkpoint, num_labels=2)"
   ]
  },
  {
   "cell_type": "markdown",
   "id": "f8109262",
   "metadata": {},
   "source": [
    "定义一个 `Trainer` 把到目前为止构建的所有对象 —— `model` ，`training_args`，训练和验证数据集， `data_collator` 和 `tokenizer` 传递给 `Trainer`"
   ]
  },
  {
   "cell_type": "code",
   "execution_count": null,
   "id": "770ce0db",
   "metadata": {},
   "outputs": [
    {
     "data": {
      "text/plain": [
       "BertForSequenceClassification(\n",
       "  (bert): BertModel(\n",
       "    (embeddings): BertEmbeddings(\n",
       "      (word_embeddings): Embedding(30522, 768, padding_idx=0)\n",
       "      (position_embeddings): Embedding(512, 768)\n",
       "      (token_type_embeddings): Embedding(2, 768)\n",
       "      (LayerNorm): LayerNorm((768,), eps=1e-12, elementwise_affine=True)\n",
       "      (dropout): Dropout(p=0.1, inplace=False)\n",
       "    )\n",
       "    (encoder): BertEncoder(\n",
       "      (layer): ModuleList(\n",
       "        (0-11): 12 x BertLayer(\n",
       "          (attention): BertAttention(\n",
       "            (self): BertSdpaSelfAttention(\n",
       "              (query): Linear(in_features=768, out_features=768, bias=True)\n",
       "              (key): Linear(in_features=768, out_features=768, bias=True)\n",
       "              (value): Linear(in_features=768, out_features=768, bias=True)\n",
       "              (dropout): Dropout(p=0.1, inplace=False)\n",
       "            )\n",
       "            (output): BertSelfOutput(\n",
       "              (dense): Linear(in_features=768, out_features=768, bias=True)\n",
       "              (LayerNorm): LayerNorm((768,), eps=1e-12, elementwise_affine=True)\n",
       "              (dropout): Dropout(p=0.1, inplace=False)\n",
       "            )\n",
       "          )\n",
       "          (intermediate): BertIntermediate(\n",
       "            (dense): Linear(in_features=768, out_features=3072, bias=True)\n",
       "            (intermediate_act_fn): GELUActivation()\n",
       "          )\n",
       "          (output): BertOutput(\n",
       "            (dense): Linear(in_features=3072, out_features=768, bias=True)\n",
       "            (LayerNorm): LayerNorm((768,), eps=1e-12, elementwise_affine=True)\n",
       "            (dropout): Dropout(p=0.1, inplace=False)\n",
       "          )\n",
       "        )\n",
       "      )\n",
       "    )\n",
       "    (pooler): BertPooler(\n",
       "      (dense): Linear(in_features=768, out_features=768, bias=True)\n",
       "      (activation): Tanh()\n",
       "    )\n",
       "  )\n",
       "  (dropout): Dropout(p=0.1, inplace=False)\n",
       "  (classifier): Linear(in_features=768, out_features=2, bias=True)\n",
       ")"
      ]
     },
     "execution_count": 5,
     "metadata": {},
     "output_type": "execute_result"
    }
   ],
   "source": [
    "model"
   ]
  },
  {
   "cell_type": "markdown",
   "id": "02e35036-4c8f-4238-908f-d64c1b211710",
   "metadata": {},
   "source": [
    "`Trainer` 构造函数中最常用的参数及其作用：  \n",
    "- `model`：要训练的模型（如 `AutoModelForSequenceClassification` 实例）。\n",
    "- `args`：训练参数（`TrainingArguments` 实例）。\n",
    "- `train_dataset`：训练数据集。\n",
    "- `eval_dataset`：验证/评估数据集。\n",
    "- `tokenizer`：分词器（可选，自动处理文本输入）。\n",
    "- `data_collator`：批处理函数（可选，默认自动填充）。\n",
    "- `compute_metrics`：评估指标函数（可选，返回字典）。\n",
    "- `callbacks`：自定义回调列表（可选）。\n",
    "- `optimizers`：自定义优化器和学习率调度器（可选，默认 AdamW 和线性调度）。\n",
    "\n",
    "**常用参数默认值与可选值：**\n",
    "\n",
    "| 参数 | 默认值 | 可选值/说明 |\n",
    "| --- | --- | --- |\n",
    "| `model` | 必填 | 任意 transformers 支持的模型 |\n",
    "| `args` | 必填 | `TrainingArguments` 实例 |\n",
    "| `train_dataset` | None | `datasets.Dataset` 实例 |\n",
    "| `eval_dataset` | None | `datasets.Dataset` 实例 |\n",
    "| `tokenizer` | None | `PreTrainedTokenizer` 实例 |\n",
    "| `data_collator` | None | `DataCollator` 实例 |\n",
    "| `compute_metrics` | None | 函数，返回 dict |\n",
    "| `callbacks` | None | 回调对象列表 |\n",
    "| `optimizers` | None | (optimizer, scheduler) 元组 |"
   ]
  },
  {
   "cell_type": "code",
   "execution_count": null,
   "id": "e6904a69",
   "metadata": {},
   "outputs": [
    {
     "name": "stderr",
     "output_type": "stream",
     "text": [
      "/tmp/ipykernel_2133/2641408767.py:3: FutureWarning: `tokenizer` is deprecated and will be removed in version 5.0.0 for `Trainer.__init__`. Use `processing_class` instead.\n",
      "  trainer = Trainer(\n"
     ]
    },
    {
     "data": {
      "text/html": [
       "\n",
       "    <div>\n",
       "      \n",
       "      <progress value='4590' max='4590' style='width:300px; height:20px; vertical-align: middle;'></progress>\n",
       "      [4590/4590 02:58, Epoch 10/10]\n",
       "    </div>\n",
       "    <table border=\"1\" class=\"dataframe\">\n",
       "  <thead>\n",
       " <tr style=\"text-align: left;\">\n",
       "      <th>Step</th>\n",
       "      <th>Training Loss</th>\n",
       "    </tr>\n",
       "  </thead>\n",
       "  <tbody>\n",
       "    <tr>\n",
       "      <td>500</td>\n",
       "      <td>0.593900</td>\n",
       "    </tr>\n",
       "    <tr>\n",
       "      <td>1000</td>\n",
       "      <td>0.578600</td>\n",
       "    </tr>\n",
       "    <tr>\n",
       "      <td>1500</td>\n",
       "      <td>0.638300</td>\n",
       "    </tr>\n",
       "    <tr>\n",
       "      <td>2000</td>\n",
       "      <td>0.485800</td>\n",
       "    </tr>\n",
       "    <tr>\n",
       "      <td>2500</td>\n",
       "      <td>0.367000</td>\n",
       "    </tr>\n",
       "    <tr>\n",
       "      <td>3000</td>\n",
       "      <td>0.301000</td>\n",
       "    </tr>\n",
       "    <tr>\n",
       "      <td>3500</td>\n",
       "      <td>0.231400</td>\n",
       "    </tr>\n",
       "    <tr>\n",
       "      <td>4000</td>\n",
       "      <td>0.151200</td>\n",
       "    </tr>\n",
       "    <tr>\n",
       "      <td>4500</td>\n",
       "      <td>0.094900</td>\n",
       "    </tr>\n",
       "  </tbody>\n",
       "</table><p>"
      ],
      "text/plain": [
       "<IPython.core.display.HTML object>"
      ]
     },
     "metadata": {},
     "output_type": "display_data"
    },
    {
     "data": {
      "text/plain": [
       "TrainOutput(global_step=4590, training_loss=0.3762191202126297, metrics={'train_runtime': 178.3236, 'train_samples_per_second': 205.693, 'train_steps_per_second': 25.74, 'total_flos': 1353042435523440.0, 'train_loss': 0.3762191202126297, 'epoch': 10.0})"
      ]
     },
     "execution_count": 13,
     "metadata": {},
     "output_type": "execute_result"
    }
   ],
   "source": [
    "trainer = Trainer(\n",
    "    model,\n",
    "    training_args,\n",
    "    train_dataset=tokenized_datasets[\"train\"],\n",
    "    eval_dataset=tokenized_datasets[\"validation\"],\n",
    "    data_collator=data_collator,\n",
    "    tokenizer=tokenizer,\n",
    ")\n",
    "\n",
    "trainer.train()"
   ]
  },
  {
   "cell_type": "markdown",
   "id": "3a3f17b7",
   "metadata": {},
   "source": [
    "**评估**"
   ]
  },
  {
   "cell_type": "code",
   "execution_count": 14,
   "id": "a2550e4f",
   "metadata": {},
   "outputs": [
    {
     "data": {
      "text/html": [],
      "text/plain": [
       "<IPython.core.display.HTML object>"
      ]
     },
     "metadata": {},
     "output_type": "display_data"
    },
    {
     "name": "stdout",
     "output_type": "stream",
     "text": [
      "(408, 2) (408,)\n"
     ]
    },
    {
     "data": {
      "application/vnd.jupyter.widget-view+json": {
       "model_id": "1d4ba556058d47a188c8b1943b2e2f8c",
       "version_major": 2,
       "version_minor": 0
      },
      "text/plain": [
       "Downloading builder script:   0%|          | 0.00/5.75k [00:00<?, ?B/s]"
      ]
     },
     "metadata": {},
     "output_type": "display_data"
    },
    {
     "data": {
      "text/plain": [
       "{'accuracy': 0.8259803921568627, 'f1': 0.88107202680067}"
      ]
     },
     "execution_count": 14,
     "metadata": {},
     "output_type": "execute_result"
    }
   ],
   "source": [
    "predictions = trainer.predict(tokenized_datasets[\"validation\"])\n",
    "print(predictions.predictions.shape, predictions.label_ids.shape)\n",
    "# predict() 方法的输出一个带有三个字段的命名元组: predictions ,label_ids 和 metrics\n",
    "# metrics 字段将只包含所传递的数据集的损失,以及一些时间指标(总共花费的时间和平均预测时间)\n",
    "# predictions.prediction (batch,num_class)\n",
    "preds = np.argmax(predictions.predictions, axis=-1)\n",
    "metric = evaluate.load(\"glue\", \"mrpc\")\n",
    "metric.compute(predictions=preds, references=predictions.label_ids)"
   ]
  },
  {
   "cell_type": "markdown",
   "id": "af2bb944",
   "metadata": {},
   "source": [
    "在cpu上训练最后一层3个epoch，准确率67%。bert的语言潜能还没有完全适应新任务，只训练3个epoch太少了。微调还是用GPU吧。    \n",
    "使用gpu训练所有参数10个epoch,准确率82%"
   ]
  },
  {
   "cell_type": "markdown",
   "id": "54c6bfb1",
   "metadata": {},
   "source": [
    "最后把所有东西打包在一起，我们就得到了 `compute_metrics()` 函数\n",
    "\n",
    "该函数必须接收一个 `EvalPrediction` 对象（它是一个带有 `predictions` 和 `label_ids` 字段的参数元组），并将返回一个字符串映射到浮点数的字典（字符串是返回的指标名称，而浮点数是其值）"
   ]
  },
  {
   "cell_type": "code",
   "execution_count": 15,
   "id": "56fea640",
   "metadata": {},
   "outputs": [],
   "source": [
    "def compute_metrics(eval_preds):\n",
    "    metric = evaluate.load(\"glue\", \"mrpc\")\n",
    "    logits, labels = eval_preds\n",
    "    predictions = np.argmax(logits, axis=-1)\n",
    "    return metric.compute(predictions=predictions, references=labels)"
   ]
  },
  {
   "cell_type": "markdown",
   "id": "e1176626",
   "metadata": {},
   "source": [
    "为了查看模型在每个训练周期结束时的好坏，下面是我们如何使用 `compute_metrics()` 函数定义一个新的 `Trainer`"
   ]
  },
  {
   "cell_type": "code",
   "execution_count": 16,
   "id": "6deda221",
   "metadata": {},
   "outputs": [
    {
     "name": "stderr",
     "output_type": "stream",
     "text": [
      "/tmp/ipykernel_2133/1799240845.py:1: FutureWarning: `tokenizer` is deprecated and will be removed in version 5.0.0 for `Trainer.__init__`. Use `processing_class` instead.\n",
      "  trainer = Trainer(\n"
     ]
    }
   ],
   "source": [
    "trainer = Trainer(\n",
    "    model,\n",
    "    training_args,\n",
    "    train_dataset=tokenized_datasets[\"train\"],\n",
    "    eval_dataset=tokenized_datasets[\"validation\"],\n",
    "    data_collator=data_collator,\n",
    "    tokenizer=tokenizer,\n",
    "    compute_metrics=compute_metrics,\n",
    ")"
   ]
  },
  {
   "cell_type": "markdown",
   "id": "3d325bfd",
   "metadata": {},
   "source": [
    "## Training Process"
   ]
  },
  {
   "cell_type": "code",
   "execution_count": null,
   "id": "39db8f9a",
   "metadata": {},
   "outputs": [
    {
     "data": {
      "application/vnd.jupyter.widget-view+json": {
       "model_id": "d169a240ce36438abe8d1db239bf0efe",
       "version_major": 2,
       "version_minor": 0
      },
      "text/plain": [
       "Map:   0%|          | 0/1725 [00:00<?, ? examples/s]"
      ]
     },
     "metadata": {},
     "output_type": "display_data"
    }
   ],
   "source": [
    "raw_datasets = load_dataset(\"glue\", \"mrpc\")\n",
    "checkpoint = \"bert-base-uncased\"\n",
    "tokenizer = AutoTokenizer.from_pretrained(checkpoint)\n",
    "\n",
    "def tokenize_function(example):\n",
    "    return tokenizer(example[\"sentence1\"], example[\"sentence2\"], truncation=True)\n",
    "\n",
    "tokenized_datasets = raw_datasets.map(tokenize_function, batched=True)\n",
    "data_collator = DataCollatorWithPadding(tokenizer=tokenizer)"
   ]
  },
  {
   "cell_type": "markdown",
   "id": "96340745-7f12-4660-b8c7-89a03f5204d9",
   "metadata": {},
   "source": [
    "在正式开始编写我们的训练循环之前，我们需要定义一些对象。首先是我们将用于迭代 batch 的数据加载器。但在定义这些数据加载器之前，我们需要对我们的 `tokenized_datasets` 进行一些后处理，以自己实现一些 Trainer 自动为我们处理的内容。具体来说，我们需要：\n",
    "- 删除与模型不需要的列（如 `sentence1` 和 `sentence2` 列）。\n",
    "- 将列名 `label` 重命名为 `labels` （因为模型默认的输入是 `labels` ）。\n",
    "- 设置数据集的格式，使其返回 PyTorch 张量而不是列表。"
   ]
  },
  {
   "cell_type": "code",
   "execution_count": 18,
   "id": "8d31b1b9-b170-421e-ab21-f2866417f3c0",
   "metadata": {},
   "outputs": [
    {
     "data": {
      "text/plain": [
       "['labels', 'input_ids', 'token_type_ids', 'attention_mask']"
      ]
     },
     "execution_count": 18,
     "metadata": {},
     "output_type": "execute_result"
    }
   ],
   "source": [
    "tokenized_datasets = tokenized_datasets.remove_columns([\"sentence1\", \"sentence2\", \"idx\"])\n",
    "tokenized_datasets = tokenized_datasets.rename_column(\"label\", \"labels\")\n",
    "tokenized_datasets.set_format(\"torch\")\n",
    "tokenized_datasets[\"train\"].column_names"
   ]
  },
  {
   "cell_type": "markdown",
   "id": "8f4628f3-9b0e-44eb-ad29-888e9fdbd478",
   "metadata": {},
   "source": [
    "定义数据加载器DataLoader\n",
    "\n",
    "| **参数** | **类型** | **含义** |\n",
    "| --- | --- | --- |\n",
    "| dataset | Dataset | 要加载的数据集对象，必须是 torch.utils.data.Dataset 的实例。 |\n",
    "| batch_size | int | 每个批次包含的样本数，默认是 1。 |\n",
    "| shuffle | bool | 是否在每个 epoch 开始时打乱数据，默认是 False。 |\n",
    "| num_workers | int | 使用多少个子进程加载数据，默认是 0（主进程加载）。 |\n",
    "| drop_last | bool | 如果数据集大小不能整除 batch_size，是否丢弃最后一个不完整的批次，默认是 False。 |\n",
    "| collate_fn | callable | 自定义函数，用于将多个样本组合成一个批次，默认会自动转为张量。 |\n",
    "| sampler | Sampler | 自定义采样器，控制数据加载顺序（与 shuffle=True 互斥）。 |"
   ]
  },
  {
   "cell_type": "code",
   "execution_count": null,
   "id": "e649307c-139a-4fe7-b34a-92f1778e2f31",
   "metadata": {},
   "outputs": [],
   "source": [
    "train_dataloader = DataLoader(\n",
    "    tokenized_datasets[\"train\"], shuffle=True, batch_size=8, collate_fn=data_collator\n",
    ")\n",
    "eval_dataloader = DataLoader(\n",
    "    tokenized_datasets[\"validation\"], batch_size=8, collate_fn=data_collator\n",
    ")"
   ]
  },
  {
   "cell_type": "code",
   "execution_count": null,
   "id": "6c5a28a9-c737-4158-b374-f60bda07bbde",
   "metadata": {},
   "outputs": [
    {
     "name": "stderr",
     "output_type": "stream",
     "text": [
      "Some weights of BertForSequenceClassification were not initialized from the model checkpoint at bert-base-uncased and are newly initialized: ['classifier.bias', 'classifier.weight']\n",
      "You should probably TRAIN this model on a down-stream task to be able to use it for predictions and inference.\n"
     ]
    }
   ],
   "source": [
    "model = AutoModelForSequenceClassification.from_pretrained(checkpoint, num_labels=2)"
   ]
  },
  {
   "cell_type": "code",
   "execution_count": null,
   "id": "86a14ff5-f573-42c5-9a8e-4350a942a9c0",
   "metadata": {},
   "outputs": [],
   "source": [
    "optimizer = AdamW(model.parameters(), lr=5e-5)\n",
    "\n",
    "num_epochs = 3\n",
    "num_training_steps = num_epochs * len(train_dataloader)\n",
    "lr_scheduler = get_scheduler(\n",
    "    \"linear\",\n",
    "    optimizer=optimizer,\n",
    "    num_warmup_steps=0,\n",
    "    num_training_steps=num_training_steps,\n",
    ")"
   ]
  },
  {
   "cell_type": "code",
   "execution_count": null,
   "id": "91512abc-2d2d-4550-a5da-50a10ed1e5eb",
   "metadata": {},
   "outputs": [
    {
     "data": {
      "text/plain": [
       "BertForSequenceClassification(\n",
       "  (bert): BertModel(\n",
       "    (embeddings): BertEmbeddings(\n",
       "      (word_embeddings): Embedding(30522, 768, padding_idx=0)\n",
       "      (position_embeddings): Embedding(512, 768)\n",
       "      (token_type_embeddings): Embedding(2, 768)\n",
       "      (LayerNorm): LayerNorm((768,), eps=1e-12, elementwise_affine=True)\n",
       "      (dropout): Dropout(p=0.1, inplace=False)\n",
       "    )\n",
       "    (encoder): BertEncoder(\n",
       "      (layer): ModuleList(\n",
       "        (0-11): 12 x BertLayer(\n",
       "          (attention): BertAttention(\n",
       "            (self): BertSdpaSelfAttention(\n",
       "              (query): Linear(in_features=768, out_features=768, bias=True)\n",
       "              (key): Linear(in_features=768, out_features=768, bias=True)\n",
       "              (value): Linear(in_features=768, out_features=768, bias=True)\n",
       "              (dropout): Dropout(p=0.1, inplace=False)\n",
       "            )\n",
       "            (output): BertSelfOutput(\n",
       "              (dense): Linear(in_features=768, out_features=768, bias=True)\n",
       "              (LayerNorm): LayerNorm((768,), eps=1e-12, elementwise_affine=True)\n",
       "              (dropout): Dropout(p=0.1, inplace=False)\n",
       "            )\n",
       "          )\n",
       "          (intermediate): BertIntermediate(\n",
       "            (dense): Linear(in_features=768, out_features=3072, bias=True)\n",
       "            (intermediate_act_fn): GELUActivation()\n",
       "          )\n",
       "          (output): BertOutput(\n",
       "            (dense): Linear(in_features=3072, out_features=768, bias=True)\n",
       "            (LayerNorm): LayerNorm((768,), eps=1e-12, elementwise_affine=True)\n",
       "            (dropout): Dropout(p=0.1, inplace=False)\n",
       "          )\n",
       "        )\n",
       "      )\n",
       "    )\n",
       "    (pooler): BertPooler(\n",
       "      (dense): Linear(in_features=768, out_features=768, bias=True)\n",
       "      (activation): Tanh()\n",
       "    )\n",
       "  )\n",
       "  (dropout): Dropout(p=0.1, inplace=False)\n",
       "  (classifier): Linear(in_features=768, out_features=2, bias=True)\n",
       ")"
      ]
     },
     "execution_count": 24,
     "metadata": {},
     "output_type": "execute_result"
    }
   ],
   "source": [
    "device = torch.device(\"cuda\") if torch.cuda.is_available() else torch.device(\"cpu\")\n",
    "model.to(device)"
   ]
  },
  {
   "cell_type": "markdown",
   "id": "0f480e34-ce43-4d64-aad7-f0282f603c12",
   "metadata": {},
   "source": [
    "tqdm 是一个 Python 库，全称是 **\"taqadum\"**（阿拉伯语中的“进度”），用于在循环或迭代过程中添加进度条\n",
    "\n",
    "| **参数** | **类型** | **含义** |\n",
    "| --- | --- | --- |\n",
    "| iterable | 可迭代对象 | 要包装的迭代对象（如 range(100)、列表等）。 |\n",
    "| desc | str | 进度条前缀描述，例如 \"Training\"。 |\n",
    "| total | int | 总迭代次数（可选，若 iterable 无长度则需手动指定）。 |\n",
    "| leave | bool | 完成后是否保留进度条，默认 True。 |\n",
    "| unit | str | 迭代单位，默认 \"it\"（iterations），可设为 \"epoch\"、bytes 等。 |\n",
    "| ncols | int | 进度条宽度（字符数），默认自适应终端宽度。 |\n",
    "| mininterval | float | 更新进度条的最小时间间隔（秒），默认 0.1。 |"
   ]
  },
  {
   "cell_type": "code",
   "execution_count": null,
   "id": "728e88f9-4668-446c-8262-4a8eb642bed4",
   "metadata": {},
   "outputs": [
    {
     "data": {
      "application/vnd.jupyter.widget-view+json": {
       "model_id": "04ed64bd8b5045d58b5c9e82cb39b212",
       "version_major": 2,
       "version_minor": 0
      },
      "text/plain": [
       "  0%|          | 0/1377 [00:00<?, ?it/s]"
      ]
     },
     "metadata": {},
     "output_type": "display_data"
    }
   ],
   "source": [
    "progress_bar = tqdm(range(num_training_steps))\n",
    "\n",
    "model.train()\n",
    "for epoch in range(num_epochs):\n",
    "    for batch in train_dataloader:\n",
    "        batch = {k: v.to(device) for k, v in batch.items()}\n",
    "        outputs = model(**batch)\n",
    "        loss = outputs.loss\n",
    "        loss.backward()\n",
    "\n",
    "        optimizer.step()\n",
    "        lr_scheduler.step()\n",
    "        optimizer.zero_grad()\n",
    "        progress_bar.update(1)"
   ]
  },
  {
   "cell_type": "markdown",
   "id": "803dbae4",
   "metadata": {},
   "source": [
    "`evaluate` 是 Hugging Face 推出的评估指标库，支持主流 NLP 任务的自动评测。常用流程如下：\n",
    "\n",
    "**常用方法说明：**\n",
    "\n",
    "- `evaluate.load(metric_name, ...)`：加载指定评测指标。\n",
    "- `metric.add_batch(predictions=..., references=...)`：批量添加预测与标签。\n",
    "- `metric.compute()`：计算并返回最终评测结果（字典格式）。\n",
    "\n",
    "**常见内置指标**  \n",
    "- 分类任务：`accuracy`, `f1`, `precision`, `recall`\n",
    "- 回归/相似度任务：`pearsonr`, `spearmanr`\n",
    "- 机器翻译/摘要：`bleu`, `rouge`, `meteor`\n"
   ]
  },
  {
   "cell_type": "code",
   "execution_count": null,
   "id": "eab645e7-fe91-4a85-8090-3c9d7fe2b1c6",
   "metadata": {},
   "outputs": [
    {
     "data": {
      "text/plain": [
       "{'accuracy': 0.8553921568627451, 'f1': 0.8977469670710572}"
      ]
     },
     "execution_count": 26,
     "metadata": {},
     "output_type": "execute_result"
    }
   ],
   "source": [
    "metric = evaluate.load(\"glue\", \"mrpc\")\n",
    "model.eval()\n",
    "for batch in eval_dataloader:\n",
    "    batch = {k: v.to(device) for k, v in batch.items()}\n",
    "    with torch.no_grad():\n",
    "        outputs = model(**batch)\n",
    "\n",
    "    logits = outputs.logits\n",
    "    predictions = torch.argmax(logits, dim=-1)\n",
    "    metric.add_batch(predictions=predictions, references=batch[\"labels\"])\n",
    "\n",
    "metric.compute()"
   ]
  }
 ],
 "metadata": {
  "kernelspec": {
   "display_name": "handonML",
   "language": "python",
   "name": "python3"
  },
  "language_info": {
   "codemirror_mode": {
    "name": "ipython",
    "version": 3
   },
   "file_extension": ".py",
   "mimetype": "text/x-python",
   "name": "python",
   "nbconvert_exporter": "python",
   "pygments_lexer": "ipython3",
   "version": "3.12.3"
  }
 },
 "nbformat": 4,
 "nbformat_minor": 5
}
